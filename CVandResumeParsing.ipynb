{
  "nbformat": 4,
  "nbformat_minor": 0,
  "metadata": {
    "colab": {
      "name": "CVandResumeParsing.ipynb",
      "provenance": [],
      "collapsed_sections": [],
      "authorship_tag": "ABX9TyNmLa097XnjvapLQUoOdwhp"
    },
    "kernelspec": {
      "name": "python3",
      "display_name": "Python 3"
    },
    "accelerator": "GPU"
  },
  "cells": [
    {
      "cell_type": "code",
      "metadata": {
        "id": "wMXvDk-6ktBj"
      },
      "source": [
        "import spacy\r\n",
        "import random\r\n",
        "import pickle\r\n",
        "from spacy.util import minibatch, compounding\r\n",
        "import sys"
      ],
      "execution_count": 22,
      "outputs": []
    },
    {
      "cell_type": "code",
      "metadata": {
        "id": "awiQJkkNYD4H"
      },
      "source": [
        "# now let's load the data and it's a pickle data\r\n",
        "training_data = pickle.load(open('train_data.pkl','rb'))"
      ],
      "execution_count": null,
      "outputs": []
    },
    {
      "cell_type": "code",
      "metadata": {
        "id": "d8czljI9ZW2Q"
      },
      "source": [
        "# create blank en model\r\n",
        "nlp = spacy.blank('en')\r\n",
        "\r\n",
        "# now we will create a function to prepare our train data\r\n",
        "\r\n",
        "def train_model(train_data):\r\n",
        "    # create the built-in pipeline components and add them to the pipeline\r\n",
        "    # nlp.create_pipe works for built-ins that are registered with spaCy\r\n",
        "    if 'ner' not in nlp.pipe_names:\r\n",
        "      # create to the name entity reog\r\n",
        "      ner = nlp.create_pipe('ner')\r\n",
        "      # add this to the pipe\r\n",
        "      nlp.add_pipe(ner,last=True)\r\n",
        "    else:\r\n",
        "      ner = nlp.get_pipe('ner')\r\n",
        "\r\n",
        "    # add labels\r\n",
        "    for _, annotations in train_data:\r\n",
        "      # now we will get the entities\r\n",
        "      for ent in annotations.get(\"entities\"):\r\n",
        "        # now we will add the label from that entities\r\n",
        "        ner.add_label(ent[2])\r\n",
        "    #  remove other pipe if there is pip exepect the ner \r\n",
        "    other_pipes = [pipe for pipe in nlp.pipe_names if pipe !='ner' ]\r\n",
        "    # only train NER\r\n",
        "    with nlp.disable_pipes(*other_pipes):\r\n",
        "        # reset and initialize the weights randomly – but only if we're\r\n",
        "        # training a new model\r\n",
        "        opti = nlp.begin_training()    \r\n",
        "        for itn in range(10):\r\n",
        "            random.shuffle(train_data)\r\n",
        "            losses = {}\r\n",
        "            index = 0\r\n",
        "\r\n",
        "            for text, annotations in train_data:\r\n",
        "                try:\r\n",
        "                   nlp.update(\r\n",
        "                        [text],  # batch of texts\r\n",
        "                        [annotations],  # batch of annotations\r\n",
        "                        drop=0.5,  # dropout - make it harder to memorise data\r\n",
        "                        sgd = opti,\r\n",
        "                        losses=losses)\r\n",
        "                except Exception as e:\r\n",
        "                  pass      \r\n",
        "            print(\"Losses\", losses)\r\n"
      ],
      "execution_count": 5,
      "outputs": []
    },
    {
      "cell_type": "code",
      "metadata": {
        "id": "Ijvo0yFZedTE"
      },
      "source": [
        "train_model(training_data)"
      ],
      "execution_count": null,
      "outputs": []
    },
    {
      "cell_type": "code",
      "metadata": {
        "id": "CNu4lU7Fk61t"
      },
      "source": [
        "# now we will save the trained model\r\n",
        "nlp.to_disk('nlp_model_summ_spacy')"
      ],
      "execution_count": 7,
      "outputs": []
    },
    {
      "cell_type": "code",
      "metadata": {
        "id": "6KNA5_57lLYy"
      },
      "source": [
        "# we can load the trained model\r\n",
        "nlp_model = spacy.load('nlp_model_summ_spacy')\r\n"
      ],
      "execution_count": null,
      "outputs": []
    },
    {
      "cell_type": "code",
      "metadata": {
        "colab": {
          "base_uri": "https://localhost:8080/",
          "height": 120
        },
        "id": "EMNEuNKZl_O0",
        "outputId": "0e85b0b0-7bd7-4abe-d528-6f9c9809e843"
      },
      "source": [
        "training_data[2][0]"
      ],
      "execution_count": 17,
      "outputs": [
        {
          "output_type": "execute_result",
          "data": {
            "application/vnd.google.colaboratory.intrinsic+json": {
              "type": "string"
            },
            "text/plain": [
              "'Saurabh Saurabh Bengaluru, Karnataka - Email me on Indeed: indeed.com/r/Saurabh- Saurabh/87e6b26903460061  Willing to relocate: Anywhere  WORK EXPERIENCE  Developer Support Engineer  Microsoft iGTSC -  Bangalore Urban, Karnataka -  August 2007 to Present  EDUCATION  Certificate of Achievement  Microsoft Virtual Academy  December 2016  SKILLS  C, C++, Data Structure, Java (1 year)  ADDITIONAL INFORMATION  ➢ Managerial Skills: Organizer and volunteer at many inter and intra college events, symposia etc. in college. ➢ Co-curricular: - 1. Selected by College (TISL) to train the first-year engineering students under the Finishing School Program (January 2017) 2. District level soccer and cricket player. 3. Honored at State Level Singing competition; Performed in college.  ➢ Leadership Skills: Effective leadership; associated with many student led organizations; Student leader for Oxygen, A movement for and by Students (2007 &amp; 2009)  DECLARATION  The abovementioned is true to the best of my knowledge, information and personal belief. Place: Bangalore.  https://www.indeed.com/r/Saurabh-Saurabh/87e6b26903460061?isid=rex-download&ikw=download-top&co=IN https://www.indeed.com/r/Saurabh-Saurabh/87e6b26903460061?isid=rex-download&ikw=download-top&co=IN'"
            ]
          },
          "metadata": {
            "tags": []
          },
          "execution_count": 17
        }
      ]
    },
    {
      "cell_type": "code",
      "metadata": {
        "colab": {
          "base_uri": "https://localhost:8080/"
        },
        "id": "Px6tdjmmlpC8",
        "outputId": "1c5bcbbc-c3bd-4e89-d045-bdc51cf7df26"
      },
      "source": [
        "# now we can test our model\r\n",
        "doc = nlp_model(training_data[2][0])\r\n",
        "for ent in doc.ents:\r\n",
        "  print(f'{ent.label_.upper():{30}} - {ent.text}')"
      ],
      "execution_count": 18,
      "outputs": [
        {
          "output_type": "stream",
          "text": [
            "NAME                           - Saurabh Saurabh\n",
            "LOCATION                       - Bengaluru\n",
            "EMAIL ADDRESS                  - indeed.com/r/Saurabh- Saurabh/87e6b26903460061\n",
            "DESIGNATION                    - Developer Support\n",
            "DEGREE                         - Certificate of Achievement  Microsoft Virtual Academy  December 2016  \n",
            "SKILLS                         - C, C++, Data Structure, Java (1 year)  ADDITIONAL INFORMATION  ➢ Managerial Skills: Organizer and volunteer at many inter and intra college events, symposia etc. in college. ➢ Co-curricular: - 1. Selected by College (TISL) to train the first-year engineering students under the Finishing School Program (January 2017) 2. District level soccer and cricket player. 3. Honored at State Level Singing competition; Performed in college.  ➢ Leadership Skills: Effective leadership; associated with many student led organizations; Student leader for Oxygen, A movement for and by Students (2007 &amp; 2009)  DECLARATION\n",
            "SKILLS                         - The abovementioned is true to the best of my knowledge, information and personal belief. Place: Bangalore.  https://www.indeed.com/r/Saurabh-Saurabh/87e6b26903460061?isid=rex-download&ikw=download-top&co=IN https://www.indeed.com/r/Saurabh-Saurabh/87e6b26903460061?isid=rex-download&ikw=download-top&co=IN\n"
          ],
          "name": "stdout"
        }
      ]
    }
  ]
}